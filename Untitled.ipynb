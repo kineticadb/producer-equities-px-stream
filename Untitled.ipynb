{
 "cells": [
  {
   "cell_type": "code",
   "execution_count": 1,
   "id": "2d59767e",
   "metadata": {},
   "outputs": [],
   "source": [
    "import datetime\n",
    "import time\n",
    "import io\n",
    "\n",
    "import pyEX as p"
   ]
  },
  {
   "cell_type": "code",
   "execution_count": 2,
   "id": "3ee46d3e",
   "metadata": {},
   "outputs": [
    {
     "data": {
      "text/plain": [
       "11386"
      ]
     },
     "execution_count": 2,
     "metadata": {},
     "output_type": "execute_result"
    }
   ],
   "source": [
    "c = p.Client()\n",
    "sl = p.symbolsList()"
   ]
  },
  {
   "cell_type": "code",
   "execution_count": 13,
   "id": "9a00fe28",
   "metadata": {},
   "outputs": [],
   "source": [
    "tickers_all = sl"
   ]
  },
  {
   "cell_type": "code",
   "execution_count": 14,
   "id": "04356eb7",
   "metadata": {},
   "outputs": [],
   "source": [
    "tickers_good = []\n",
    "for t in tickers_all:\n",
    "    if '+' in t or '-' in t or '=' in t:\n",
    "        pass\n",
    "    else:\n",
    "        tickers_good.append(t)"
   ]
  },
  {
   "cell_type": "code",
   "execution_count": 24,
   "id": "d1952525",
   "metadata": {},
   "outputs": [],
   "source": [
    "tickers_good_chunks = [tickers_good[i:i+100] for i in range(0, len(tickers_good), 100)]"
   ]
  },
  {
   "cell_type": "code",
   "execution_count": 28,
   "id": "f451bf9a",
   "metadata": {},
   "outputs": [],
   "source": [
    "results = []\n",
    "for ticker_chunk in tickers_good_chunks:\n",
    "    ret = c.batch(\n",
    "        ticker_chunk,\n",
    "        fields=[\"quote\"],\n",
    "        format=\"json\"\n",
    "    )\n",
    "    results.append(ret)"
   ]
  },
  {
   "cell_type": "code",
   "execution_count": 37,
   "id": "8b8c6466",
   "metadata": {},
   "outputs": [
    {
     "name": "stdout",
     "output_type": "stream",
     "text": [
      "10463\n"
     ]
    }
   ],
   "source": [
    "results_merged = {}\n",
    "for r in results:\n",
    "    for k in r.keys():\n",
    "        results_merged[k]=r[k]"
   ]
  },
  {
   "cell_type": "code",
   "execution_count": 43,
   "id": "fceed67a",
   "metadata": {},
   "outputs": [],
   "source": [
    "with open('quote_cache.json','w') as twitterDataFile:    \n",
    "    json.dump(results_merged, twitterDataFile, indent=4)\n"
   ]
  },
  {
   "cell_type": "code",
   "execution_count": null,
   "id": "efb9628a",
   "metadata": {},
   "outputs": [],
   "source": []
  }
 ],
 "metadata": {
  "kernelspec": {
   "display_name": "Python 3 (ipykernel)",
   "language": "python",
   "name": "python3"
  },
  "language_info": {
   "codemirror_mode": {
    "name": "ipython",
    "version": 3
   },
   "file_extension": ".py",
   "mimetype": "text/x-python",
   "name": "python",
   "nbconvert_exporter": "python",
   "pygments_lexer": "ipython3",
   "version": "3.7.11"
  }
 },
 "nbformat": 4,
 "nbformat_minor": 5
}
